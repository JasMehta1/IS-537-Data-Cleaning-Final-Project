{
  "nbformat": 4,
  "nbformat_minor": 0,
  "metadata": {
    "colab": {
      "private_outputs": true,
      "provenance": []
    },
    "kernelspec": {
      "name": "python3",
      "display_name": "Python 3"
    },
    "language_info": {
      "name": "python"
    }
  },
  "cells": [
    {
      "cell_type": "markdown",
      "source": [],
      "metadata": {
        "id": "RS-FPymo0PgU"
      }
    },
    {
      "cell_type": "code",
      "source": [
        "pip install ydata_profiling"
      ],
      "metadata": {
        "id": "rqQdtln10jJh"
      },
      "execution_count": null,
      "outputs": []
    },
    {
      "cell_type": "code",
      "source": [
        "# from google.colab import drive\n",
        "# drive.mount('/content/drive')"
      ],
      "metadata": {
        "id": "qz2atQYYHLr8"
      },
      "execution_count": null,
      "outputs": []
    },
    {
      "cell_type": "code",
      "execution_count": null,
      "metadata": {
        "id": "n211__GzydDL"
      },
      "outputs": [],
      "source": [
        "import pandas as pd\n",
        "from ydata_profiling import ProfileReport\n",
        "\n",
        "# Load raw datasets\n",
        "merged = pd.read_csv('/content/2_merged_uiuc_courses_gpa.csv', low_memory=False)\n",
        "\n",
        "# Profile the merged data\n",
        "merged_profile = ProfileReport(\n",
        "    merged,\n",
        "    title=\"Merged UIUC Data Profile\",\n",
        "    explorative=True\n",
        ")\n",
        "merged_profile.to_file('uiuc_merged_profile.html')\n",
        "\n",
        "print(\"Merged profile → /mnt/data/uiuc_merged_profile.html\")"
      ]
    },
    {
      "cell_type": "code",
      "source": [
        "import pandas as pd\n",
        "from ydata_profiling import ProfileReport\n",
        "\n",
        "# Load raw datasets\n",
        "merged = pd.read_csv('/content/2_merged_uiuc_courses_gpa.csv', low_memory=False)\n",
        "\n",
        "# Profile the merged data\n",
        "merged_profile = ProfileReport(\n",
        "    merged,\n",
        "    title=\"Merged UIUC Data Profile\",\n",
        "    explorative=True\n",
        ")\n",
        "merged_profile.to_file('uiuc_merged_profile.html')\n",
        "\n",
        "print(\"Merged profile → /mnt/data/uiuc_merged_unclean_profile.html\")"
      ],
      "metadata": {
        "id": "Sd3KjYgFI9Nh"
      },
      "execution_count": null,
      "outputs": []
    },
    {
      "cell_type": "code",
      "source": [
        "# Load raw datasets\n",
        "cleaned = pd.read_csv('/content/merged_cleaned_final.csv', low_memory=False)\n",
        "\n",
        "# Profile the merged data\n",
        "cleaned_profile = ProfileReport(\n",
        "    merged,\n",
        "    title=\"Cleaned UIUC Data Profile\",\n",
        "    explorative=True\n",
        ")\n",
        "cleaned_profile.to_file('uiuc_cleaned_profile.html')\n",
        "\n",
        "print(\"Merged profile → /mnt/data/uiuc_merged_cleaned_profile.html\")"
      ],
      "metadata": {
        "id": "7GsOz8YD0Tyj"
      },
      "execution_count": null,
      "outputs": []
    }
  ]
}